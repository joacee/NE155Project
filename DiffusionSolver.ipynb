{
 "cells": [
  {
   "cell_type": "code",
   "execution_count": 1,
   "metadata": {
    "collapsed": false
   },
   "outputs": [],
   "source": [
    "import numpy as np\n",
    "import operator\n",
    "from numpy import linalg as LA\n",
    "from numpy.linalg import inv\n",
    "from scipy import linalg"
   ]
  },
  {
   "cell_type": "code",
   "execution_count": 2,
   "metadata": {
    "collapsed": true
   },
   "outputs": [],
   "source": [
    "def Gausseidel(A,x,b,tol=0.000001,sc=0.000001,iteration = 1000):\n",
    "    # A,x,b - matrices defining the problem\n",
    "    # tol - absolute tolerance for convergence (default set to 10^-6)\n",
    "    # sc - stopping criterion (relative error) for convergence (default set to 10^-6)\n",
    "    # iteration - (optional) choose how many iterations to run\n",
    "    # iteration will stop at the first condition that is satisfied whether it be \n",
    "    # absolute tolerance or stopping criterion. \n",
    "    # If you want to pick a specific criteria for convergence,set the others to -1\n",
    "    xnew = np.copy(x)\n",
    "    conv = [1]*np.size(x)\n",
    "    rel = [1]*np.size(x)\n",
    "    iterations = 0\n",
    "    while np.amax(conv) > tol and np.amax(rel) > sc and iterations != iteration:\n",
    "        xold = np.copy(xnew)\n",
    "        iterations = iterations + 1\n",
    "        for i in range(np.size(x)):\n",
    "            firstsum = 0\n",
    "            secondsum = 0\n",
    "            for j in range(0, i):\n",
    "                firstsum = firstsum + A[i][j]*xnew[j]\n",
    "            for j in range(i+1, np.size(x)):\n",
    "                secondsum = secondsum + A[i][j]*xold[j]\n",
    "            xnew[i] = 1.0/A[i][i]*(b[i] - firstsum - secondsum)\n",
    "        for i in range(0, np.size(x)):\n",
    "            conv[i] = abs(xnew[i] - xold[i])\n",
    "            rel[i] = abs(xnew[i] - xold[i])/(xnew[i])\n",
    "    return xnew, iterations"
   ]
  },
  {
   "cell_type": "code",
   "execution_count": 3,
   "metadata": {
    "collapsed": false
   },
   "outputs": [],
   "source": [
    "def differencematrix(V):\n",
    "    dif = [[0]*(np.size(V[0])-1), [0]*(np.size(V[1])-1)]\n",
    "    for i in range(np.size(V[0])-1):\n",
    "        dif[0][i] = abs(V[0][i+1] - V[0][i])\n",
    "    for i in range(np.size(V[0])-1):\n",
    "        dif[1][i] = abs(V[1][i+1] - V[1][i])\n",
    "    return dif\n",
    "    "
   ]
  },
  {
   "cell_type": "code",
   "execution_count": 4,
   "metadata": {
    "collapsed": false
   },
   "outputs": [],
   "source": [
    "def finitevolume(V,D,S,absorption):\n",
    "    eps = differencematrix(V)[1]\n",
    "    sig = differencematrix(V)[0]\n",
    "    sources = reduce(operator.add, S)\n",
    "    fluxeq = [None]*np.size(sources)\n",
    "    for j in range(np.size(V[1])):\n",
    "        for i in range(np.size(V[0])):\n",
    "            if i == 0 or j == 0 or i == np.size(V[0])-1 or j == np.size(V[0])-1:\n",
    "                aL = 0\n",
    "                aR = 0\n",
    "                aB = 0\n",
    "                aT = 0\n",
    "                aC = 1\n",
    "            else:\n",
    "                aL = -1.0*(D[i-1][j-1]*eps[j-1] + D[i-1][j]*eps[j])/(2.0*sig[i-1])\n",
    "                aR = -1.0*(D[i][j-1]*eps[j-1] + D[i][j]*eps[j])/(2.0*sig[i])\n",
    "                aB = -1.0*(D[i-1][j-1]*sig[i-1] + D[i][j-1]*sig[i])/(2.0*eps[j-1])\n",
    "                aT = -1.0*(D[i-1][j]*sig[i-1] + D[i][j]*sig[i])/(2.0*eps[j])\n",
    "                aC = absorption[i][j] - (aL + aR + aB + aT)\n",
    "            flux = [0]*np.size(sources)\n",
    "            flux[j*np.size(V[0]) + i] = aC\n",
    "            if j*np.size(V[0]) + i + 1 < np.size(flux):\n",
    "                flux[j*np.size(V[0]) + i + 1] = aR\n",
    "            if j*np.size(V[0]) + i - 1 >= 0:\n",
    "                flux[j*np.size(V[0]) + i - 1] = aL\n",
    "            if j*np.size(V[0]) + i + 3 < np.size(flux):\n",
    "                flux[j*np.size(V[0]) + i + 3] = aT\n",
    "            if j*np.size(V[0]) + i - 3 >= 0:\n",
    "                flux[j*np.size(V[0]) + i - 3] = aB\n",
    "            fluxeq[j*np.size(V[0]) + i] = flux\n",
    "    test = [1.0]*np.size(sources)\n",
    "    return Gausseidel(fluxeq,test,sources)[0]\n",
    "    \n",
    "            "
   ]
  },
  {
   "cell_type": "code",
   "execution_count": 5,
   "metadata": {
    "collapsed": false
   },
   "outputs": [
    {
     "name": "stdout",
     "output_type": "stream",
     "text": [
      "[  8.           8.           8.           8.           8.          10.16077054\n",
      "  10.67524043   8.           8.          10.67524088  10.16077164   8.           8.\n",
      "   8.           8.           8.        ]\n"
     ]
    }
   ],
   "source": [
    "D1 = [[1.0,1.0,1.0],[1.0,1.0,1.0],[1.0,1.0,1.0]]                             # Diffusion coefficients bottom -> top, left -> right\n",
    "absorption1 = [[0.2,0.2,0.2],[0.2,0.2,0.2],[0.2,0.2,0.2]]                 # Absorption coefficients bottom -> top, left -> right\n",
    "V1 = [[-0.2, -0.1, 0.0, 0.1],[-0.2, -0.1, 0.0, 0.1]]                             # geometry [[x coordinates], [y coordinates]]\n",
    "S1 = [[8.0, 8.0, 8.0, 8.0],[8.0, 8.0, 8.0, 8.0],[8.0, 8.0, 8.0, 8.0],[8.0, 8.0, 8.0, 8.0]] # source [[x coordinates], [y coordinates]]\n",
    "print finitevolume(V1,D1,S1,absorption1)"
   ]
  },
  {
   "cell_type": "code",
   "execution_count": 6,
   "metadata": {
    "collapsed": false
   },
   "outputs": [
    {
     "name": "stdout",
     "output_type": "stream",
     "text": [
      "[-0.2, -0.1, 0.0, 0.1, -0.2, -0.1, 0.0, 0.1, -0.2, -0.1, 0.0, 0.1, -0.2, -0.1, 0.0, 0.1]\n",
      "[-0.2, -0.2, -0.2, -0.2, -0.1, -0.1, -0.1, -0.1, 0.0, 0.0, 0.0, 0.0, 0.1, 0.1, 0.1, 0.1]\n",
      "[  8.           8.           8.           8.           8.          10.16077054\n",
      "  10.67524043   8.           8.          10.67524088  10.16077164   8.           8.\n",
      "   8.           8.           8.        ]\n"
     ]
    }
   ],
   "source": [
    "from mpl_toolkits.mplot3d import Axes3D\n",
    "from matplotlib import cm\n",
    "import matplotlib.pyplot as plt\n",
    "\n",
    "\n",
    "x = V1[0]*np.size(V1[1])\n",
    "y = [V1[1][0]]*np.size(V1[0])\n",
    "for p in range(1,np.size(V1[1])):\n",
    "    y = y + [V1[1][p]]*np.size(V1[0])\n",
    "print x\n",
    "print y\n",
    "\n",
    "\n",
    "# Pringle surface\n",
    "z = finitevolume(V1,D1,S1,absorption1)\n",
    "print z\n",
    "\n",
    "fig = plt.figure()\n",
    "ax = fig.gca(projection='3d')\n",
    "\n",
    "ax.plot_trisurf(x, y, z, cmap=cm.jet, linewidth=0.2)\n",
    "\n",
    "plt.show()"
   ]
  },
  {
   "cell_type": "code",
   "execution_count": 7,
   "metadata": {
    "collapsed": false
   },
   "outputs": [
    {
     "name": "stdout",
     "output_type": "stream",
     "text": [
      "[  8.           8.           8.           8.           8.           8.           8.\n",
      "   8.           8.           8.           8.           8.           8.           8.\n",
      "   8.           8.           8.           8.           8.           8.           8.\n",
      "  14.87662522  17.22958455  18.65403837  21.25226965  22.83362389\n",
      "  23.86514389  24.89528503  25.55426388  25.85069952  25.88856192\n",
      "  25.748341    25.26500746  24.23767078  23.43523235  22.27634976\n",
      "  19.20944003  18.16563597  17.65100738   8.           8.          17.69225749\n",
      "  18.24222075  19.31225751  22.41428813  23.61285095  24.45501692\n",
      "  25.52269156  26.06249705  26.26332068  26.26355155  26.06367201\n",
      "  25.52492647  24.45727396  23.61648557  22.42045837  19.31561485\n",
      "  18.2478594   17.70891851   8.           8.          17.70915246\n",
      "  18.2482967   19.3162067   22.42126028  23.61752611  24.45855583\n",
      "  25.52645567  26.06554606  26.26579599  26.26580109  26.0655636\n",
      "  25.52648562  24.45859125  23.6175728   22.42132278  19.31625172\n",
      "  18.2483526   17.70926587   8.           8.          17.70925379\n",
      "  18.24833313  19.31623037  22.42130209  23.61755413  24.45857704\n",
      "  25.52647823  26.06556433  26.26581082  26.26581457  26.06557493\n",
      "  25.52649495  24.45859914  23.61757931  22.42132796  19.31625553\n",
      "  18.24835555  17.70926795   8.           8.          17.70925439\n",
      "  18.24833335  19.31623051  22.42130234  23.6175543   24.45857716\n",
      "  25.52647836  26.06556444  26.26581091  26.26581465  26.065575\n",
      "  25.52649501  24.45859919  23.61757935  22.42132799  19.31625555\n",
      "  18.24835557  17.70926796   8.           8.          17.7092544\n",
      "  18.24833335  19.31623051  22.42130234  23.6175543   24.45857716\n",
      "  25.52647836  26.06556444  26.26581091  26.26581465  26.065575\n",
      "  25.52649501  24.45859919  23.61757935  22.42132799  19.31625555\n",
      "  18.24835557  17.70926796   8.           8.          17.7092544\n",
      "  18.24833335  19.31623051  22.42130234  23.6175543   24.45857716\n",
      "  25.52647836  26.06556444  26.26581091  26.26581465  26.065575\n",
      "  25.52649501  24.45859919  23.61757935  22.42132799  19.31625555\n",
      "  18.24835557  17.70926796   8.           8.          17.7092544\n",
      "  18.24833335  19.31623051  22.42130234  23.6175543   24.45857716\n",
      "  25.52647836  26.06556444  26.26581091  26.26581465  26.065575\n",
      "  25.52649501  24.45859919  23.61757935  22.42132799  19.31625555\n",
      "  18.24835557  17.70926796   8.           8.          17.7092544\n",
      "  18.24833335  19.31623051  22.42130234  23.6175543   24.45857716\n",
      "  25.52647836  26.06556444  26.26581091  26.26581465  26.065575\n",
      "  25.52649501  24.45859919  23.61757935  22.42132799  19.31625555\n",
      "  18.24835557  17.70926796   8.           8.          17.7092544\n",
      "  18.24833335  19.31623051  22.42130234  23.6175543   24.45857716\n",
      "  25.52647836  26.06556444  26.26581091  26.26581465  26.065575\n",
      "  25.52649501  24.45859919  23.61757935  22.42132799  19.31625555\n",
      "  18.24835557  17.70926796   8.           8.          17.7092544\n",
      "  18.24833335  19.31623051  22.42130234  23.6175543   24.45857716\n",
      "  25.52647836  26.06556444  26.26581091  26.26581465  26.065575\n",
      "  25.52649501  24.45859919  23.61757935  22.42132799  19.31625555\n",
      "  18.24835557  17.70926796   8.           8.          17.7092544\n",
      "  18.24833335  19.31623051  22.42130234  23.6175543   24.45857716\n",
      "  25.52647836  26.06556444  26.26581091  26.26581465  26.065575\n",
      "  25.52649501  24.45859919  23.61757935  22.42132799  19.31625555\n",
      "  18.24835557  17.70926796   8.           8.          17.7092544\n",
      "  18.24833335  19.31623051  22.42130234  23.6175543   24.45857716\n",
      "  25.52647836  26.06556444  26.26581091  26.26581465  26.065575\n",
      "  25.52649501  24.45859919  23.61757935  22.42132799  19.31625555\n",
      "  18.24835557  17.70926796   8.           8.          17.7092544\n",
      "  18.24833335  19.31623051  22.42130234  23.6175543   24.45857716\n",
      "  25.52647836  26.06556444  26.26581091  26.26581465  26.065575\n",
      "  25.52649501  24.45859919  23.61757935  22.42132799  19.31625555\n",
      "  18.24835557  17.70926796   8.           8.          17.70925439\n",
      "  18.24833334  19.3162305   22.42130232  23.61755428  24.45857713\n",
      "  25.52647833  26.06556439  26.26581085  26.26581459  26.06557492\n",
      "  25.52649491  24.45859909  23.61757922  22.42132778  19.31625544\n",
      "  18.24835539  17.70926744   8.           8.          17.70925253\n",
      "  18.24833068  19.31622704  22.4212976   23.6175483   24.45856984\n",
      "  25.52646964  26.06555377  26.26579812  26.26580052  26.06555745\n",
      "  25.52647318  24.45857865  23.617552    22.42128688  19.31623235\n",
      "  18.24831963  17.70916735   8.           8.          17.70890825\n",
      "  18.24784141  19.3155948   22.42043907  23.61646768  24.45725968\n",
      "  25.52491811  26.06367011  26.26355664  26.26333318  26.06251638\n",
      "  25.52271681  24.45504673  23.61288369  22.41432154  19.31228774\n",
      "  18.24224842  17.69227943   8.           8.          17.6510117\n",
      "  18.16563568  19.20944018  22.27635539  23.43524136  24.23768425\n",
      "  25.26502745  25.748367    25.88859359  25.85073674  25.55430575\n",
      "  24.89533006  23.86519021  22.83367052  21.25231394  18.65407562\n",
      "  17.22961757  14.87665036   8.           8.           8.           8.           8.\n",
      "   8.           8.           8.           8.           8.           8.           8.\n",
      "   8.           8.           8.           8.           8.           8.           8.\n",
      "   8.           8.        ]\n"
     ]
    }
   ],
   "source": [
    "D2 = [[1.0]*19]*19                                 # Diffusion coefficients bottom -> top, left -> right\n",
    "absorption2 = [[0.2]*19]*19                         # Absorption coefficients bottom -> top, left -> right\n",
    "V2 = [np.linspace(-1.0,1.0,20).tolist(),np.linspace(-1.0,1.0,20).tolist()]          # geometry [[x coordinates], [y coordinates]]\n",
    "S2 = [[8.0]*20]*20                                    # source [[x coordinates], [y coordinates]]\n",
    "print finitevolume(V2,D2,S2,absorption2)"
   ]
  },
  {
   "cell_type": "code",
   "execution_count": 8,
   "metadata": {
    "collapsed": false
   },
   "outputs": [],
   "source": [
    "from mpl_toolkits.mplot3d import Axes3D\n",
    "from matplotlib import cm\n",
    "import matplotlib.pyplot as plt\n",
    "x = V2[0]*np.size(V2[1])\n",
    "y = [V2[1][0]]*np.size(V2[0])\n",
    "for p in range(1,np.size(V2[1])):\n",
    "    y = y + [V2[1][p]]*np.size(V2[0])\n",
    "# Pringle surface\n",
    "z = finitevolume(V2,D2,S2,absorption2)\n",
    "fig = plt.figure()\n",
    "ax = fig.gca(projection='3d')\n",
    "ax.plot_trisurf(x, y, z, cmap=cm.jet, linewidth=0.2)\n",
    "plt.show()"
   ]
  },
  {
   "cell_type": "code",
   "execution_count": null,
   "metadata": {
    "collapsed": true
   },
   "outputs": [],
   "source": []
  }
 ],
 "metadata": {
  "kernelspec": {
   "display_name": "Python 2",
   "language": "python",
   "name": "python2"
  },
  "language_info": {
   "codemirror_mode": {
    "name": "ipython",
    "version": 2
   },
   "file_extension": ".py",
   "mimetype": "text/x-python",
   "name": "python",
   "nbconvert_exporter": "python",
   "pygments_lexer": "ipython2",
   "version": "2.7.10"
  }
 },
 "nbformat": 4,
 "nbformat_minor": 0
}
